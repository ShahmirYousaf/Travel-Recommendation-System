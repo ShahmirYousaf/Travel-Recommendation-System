{
 "cells": [
  {
   "cell_type": "code",
   "execution_count": 3,
   "id": "797eec5f",
   "metadata": {},
   "outputs": [],
   "source": [
    "from surprise import Dataset\n",
    "import os\n",
    "from surprise import Reader\n",
    "from surprise import SVD  # SVD stands for Singular Value Decomposition, also an MF-based method like ALS\n",
    "from surprise.model_selection import train_test_split\n",
    "from surprise import accuracy\n",
    "import pandas as pd\n",
    "import numpy as np"
   ]
  },
  {
   "cell_type": "code",
   "execution_count": 4,
   "id": "8954fe89",
   "metadata": {},
   "outputs": [],
   "source": [
    "folder_path = r'D:\\Datasets'\n",
    "\n",
    "review_file = 'yelp_academic_dataset_review.csv'\n",
    "business_file = 'yelp_academic_dataset_business.csv'\n",
    "\n",
    "review_path = os.path.join(folder_path, review_file)\n",
    "business_path = os.path.join(folder_path, business_file)\n",
    "\n",
    "#Loading the Review CSV file into a DataFrame\n",
    "df_review = pd.read_csv(review_path, usecols=['user_id', 'business_id', 'stars'], nrows = 10000)\n",
    "\n",
    "#Loading the Business CSV file into another DataFrame\n",
    "df_business = pd.read_csv(business_path, usecols=['business_id', 'name'], nrows = 10000)\n",
    "\n",
    "#Merging the two DataFrames based on the 'business_id' column\n",
    "merged_df = pd.merge(df_review, df_business, on='business_id', how='inner')\n",
    "\n",
    "new_file = 'business_reviews.csv'\n",
    "\n",
    "file_path = os.path.join(folder_path, new_file)\n",
    "\n",
    "#Saving the merged DataFrame to a new business_reviews CSV file\n",
    "merged_df.to_csv(file_path, index=False)"
   ]
  },
  {
   "cell_type": "code",
   "execution_count": 5,
   "id": "58ec051b",
   "metadata": {},
   "outputs": [],
   "source": [
    "#Loading the new CSV file into a Pandas DataFrame\n",
    "data = pd.read_csv(file_path)"
   ]
  },
  {
   "cell_type": "code",
   "execution_count": 6,
   "id": "33a2fedf",
   "metadata": {},
   "outputs": [
    {
     "data": {
      "text/plain": [
       "<bound method NDFrame.head of                      user_id             business_id  stars  \\\n",
       "0     mh_-eMZ6K5RLWhZyISBhwA  XQfwVwDr-v0ZS3_CbbE5Xw    3.0   \n",
       "1     Iaee7y6zdSB3B-kRCo4z1w  XQfwVwDr-v0ZS3_CbbE5Xw    2.0   \n",
       "2     ejFxLGqQcWNLdNByJlIhnQ  XQfwVwDr-v0ZS3_CbbE5Xw    4.0   \n",
       "3     f7xa0p_1V9lx53iIGN5Sug  XQfwVwDr-v0ZS3_CbbE5Xw    3.0   \n",
       "4     _7bHUi9Uuf5__HHc_Q8guQ  kxX2SOes4o-D3ZQBkiMRfA    5.0   \n",
       "...                      ...                     ...    ...   \n",
       "6767  k9Mvnw4aglONCaS5cBKQnw  yqBU6jO9e988dwxBkstJFQ    5.0   \n",
       "6768  RkmOFFHv1vharP_8ARd-Qg  iFzxAYaZYVNr9OLaek1cYg    5.0   \n",
       "6769  rUs9xSR1LASkh6_grbQlHg  F_KRsGlJJSS7_N2xOErJDw    1.0   \n",
       "6770  a0REzCBCztw5pS0_BOTa6A  hxsdgbsEQwWUZq91Mx9MCw    3.0   \n",
       "6771  wDNDsaLICPKLFATB41qZ6g  K_L_w0Hv47TLlpNJ2R14zA    4.0   \n",
       "\n",
       "                                     name  \n",
       "0            Turning Point of North Wales  \n",
       "1            Turning Point of North Wales  \n",
       "2            Turning Point of North Wales  \n",
       "3            Turning Point of North Wales  \n",
       "4                                   Zaika  \n",
       "...                                   ...  \n",
       "6767                        Papa Murphy's  \n",
       "6768                Enterprise Rent-A-Car  \n",
       "6769                      Jones West Ford  \n",
       "6770  Aradia Fitness Edmonton _ Whyte ave  \n",
       "6771             South Reno Athletic Club  \n",
       "\n",
       "[6772 rows x 4 columns]>"
      ]
     },
     "execution_count": 6,
     "metadata": {},
     "output_type": "execute_result"
    }
   ],
   "source": [
    "data.head"
   ]
  },
  {
   "cell_type": "code",
   "execution_count": 7,
   "id": "f7f25123",
   "metadata": {},
   "outputs": [
    {
     "name": "stdout",
     "output_type": "stream",
     "text": [
      "Index(['user_id', 'business_id', 'stars', 'name'], dtype='object')\n"
     ]
    }
   ],
   "source": [
    "print(data.columns)"
   ]
  },
  {
   "cell_type": "markdown",
   "id": "b09ff3c0",
   "metadata": {},
   "source": [
    "# Defining a Reader object specifying the rating scale"
   ]
  },
  {
   "cell_type": "code",
   "execution_count": 8,
   "id": "735c5978",
   "metadata": {},
   "outputs": [],
   "source": [
    "reader = Reader(rating_scale=(1, 5))  #the rating scale we have is from 1 to 5"
   ]
  },
  {
   "cell_type": "code",
   "execution_count": 9,
   "id": "0d3fc6f0",
   "metadata": {},
   "outputs": [],
   "source": [
    "#Loading the dataset from the DataFrame\n",
    "data_loading = Dataset.load_from_df(data[['user_id', 'business_id','stars']], reader)"
   ]
  },
  {
   "cell_type": "markdown",
   "id": "33d7237c",
   "metadata": {},
   "source": [
    "# Splitting the dataset and Training the SVD model"
   ]
  },
  {
   "cell_type": "code",
   "execution_count": 10,
   "id": "3bf3660c",
   "metadata": {},
   "outputs": [],
   "source": [
    "#Splitting the data into training and testing sets\n",
    "trainset, testset = train_test_split(data_loading, test_size=0.2)  # You can adjust the test_size"
   ]
  },
  {
   "cell_type": "code",
   "execution_count": 11,
   "id": "2ada7738",
   "metadata": {},
   "outputs": [],
   "source": [
    "#Defining the SVD model\n",
    "model = SVD()\n",
    "\n",
    "#Training the model on the training set\n",
    "model.fit(trainset)\n",
    "\n",
    "#Making the predictions on the test set\n",
    "predictions = model.test(testset)"
   ]
  },
  {
   "cell_type": "markdown",
   "id": "c18bf1fd",
   "metadata": {},
   "source": [
    "# Performing Cosine Similiarity"
   ]
  },
  {
   "cell_type": "code",
   "execution_count": 12,
   "id": "40193869",
   "metadata": {},
   "outputs": [],
   "source": [
    "#doing predictive rating and actual ratings\n",
    "\n",
    "predicted_ratings = [pred.est for pred in predictions]\n",
    "actual_ratings = [pred.r_ui for pred in predictions]"
   ]
  },
  {
   "cell_type": "code",
   "execution_count": 13,
   "id": "22445c0b",
   "metadata": {},
   "outputs": [],
   "source": [
    "#Calculating Cosine Similarity between precitive rating and actual rating\n",
    "\n",
    "from sklearn.metrics.pairwise import cosine_similarity\n",
    "\n",
    "#Converting the lists to NumPy arrays\n",
    "predicted_ratings_array = np.array([predicted_ratings])\n",
    "actual_ratings_array = np.array([actual_ratings])\n",
    "\n",
    "#Reshaping arrays\n",
    "predicted_ratings_array = predicted_ratings_array.reshape(1, -1)\n",
    "actual_ratings_array = actual_ratings_array.reshape(1, -1)\n",
    "\n",
    "#Calculating cosine similarity\n",
    "similarity_score = cosine_similarity(predicted_ratings_array, actual_ratings_array)"
   ]
  },
  {
   "cell_type": "code",
   "execution_count": 14,
   "id": "eba1f3ec",
   "metadata": {},
   "outputs": [
    {
     "name": "stdout",
     "output_type": "stream",
     "text": [
      "Cosine Similarity Score: 0.946365684726501\n"
     ]
    }
   ],
   "source": [
    "print(f\"Cosine Similarity Score: {similarity_score[0, 0]}\")"
   ]
  },
  {
   "cell_type": "markdown",
   "id": "5e940853",
   "metadata": {},
   "source": [
    "# Making Recommendations for a specific user"
   ]
  },
  {
   "cell_type": "code",
   "execution_count": 15,
   "id": "1e51f4bb",
   "metadata": {},
   "outputs": [],
   "source": [
    "user_id = 'vI4vyi1dfG93oAiSRFDymA'\n",
    "user_recommendations = []"
   ]
  },
  {
   "cell_type": "code",
   "execution_count": 16,
   "id": "826d21ff",
   "metadata": {},
   "outputs": [
    {
     "name": "stdout",
     "output_type": "stream",
     "text": [
      "Top 20 Recommendations for User vI4vyi1dfG93oAiSRFDymA:\n",
      "1. Business ID: AzseSGgDC6bVtMPEYo1CNQ, Business Name: Creole Creamery, Predicted Rating: 4.554330850060632\n",
      "2. Business ID: 2KIDQyTh-HzLxOUEDqtDBg, Business Name: Mazzaro's Italian Market, Predicted Rating: 4.442104240941289\n",
      "3. Business ID: TV81bpCQ6p6o4Hau5hk-zw, Business Name: Hellas Restaurant, Predicted Rating: 4.4377739087399215\n",
      "4. Business ID: 8uF-bhJFgT4Tn6DTb27viA, Business Name: District Donuts Sliders Brew, Predicted Rating: 4.424515531047731\n",
      "5. Business ID: qjGS_7iaQDpbVhS6W8qkHQ, Business Name: The Sweet Life Bakeshop, Predicted Rating: 4.413169869405828\n",
      "6. Business ID: vN6v8m4DO45Z4pp8yxxF_w, Business Name: Surrey's Café & Juice Bar, Predicted Rating: 4.3933199437755315\n",
      "7. Business ID: jQBPO3rYkNwIaOdQS5ktgQ, Business Name: The Fountain On Locust, Predicted Rating: 4.390324696999404\n",
      "8. Business ID: bjsBMTS4RD7Bs35ugv_fPA, Business Name: The Eagle Inn, Predicted Rating: 4.38798588479284\n",
      "9. Business ID: gmjsEdUsKpj9Xxu6pdjH0g, Business Name: The Voodoo Bone Lady Tours, Predicted Rating: 4.36792637722628\n",
      "10. Business ID: ICqgjbOpBD9SUtE5PQC9sA, Business Name: Captain Bill's Oyster Bar, Predicted Rating: 4.364574233082338\n",
      "11. Business ID: m5-FtgWRd4qA7j0vaOXiXQ, Business Name: Preservation Hall, Predicted Rating: 4.333003894175998\n",
      "12. Business ID: kKPJLiHIr9Gd9sYs3GhxDQ, Business Name: Brick & Mortar, Predicted Rating: 4.325792220652254\n",
      "13. Business ID: mUIBtlWNPD7sz3rGGWQ1RA, Business Name: Kanella, Predicted Rating: 4.317824017979158\n",
      "14. Business ID: W4ZEKkva9HpAdZG88juwyQ, Business Name: Mr. B's Bistro, Predicted Rating: 4.317261419045489\n",
      "15. Business ID: KBsLYznLfnJEY3RIBUZe0Q, Business Name: Kei Sushi, Predicted Rating: 4.311727839586252\n",
      "16. Business ID: 45siW2fI0Cuv5ZKCS23knA, Business Name: Brew D Licious, Predicted Rating: 4.310829113775696\n",
      "17. Business ID: Bt7NBqA31uOI4H_hvasLLg, Business Name: HORN'S EATERY, Predicted Rating: 4.304222422889964\n",
      "18. Business ID: sLgnx_WFCjEoPsS6NwU70Q, Business Name: Le Peep, Predicted Rating: 4.296112918977474\n",
      "19. Business ID: CPFKi2lZJazP6IdtCdDDyg, Business Name: Coffeebar, Predicted Rating: 4.294743185275838\n",
      "20. Business ID: UCMSWPqzXjd7QHq7v8PJjQ, Business Name: Prep & Pastry, Predicted Rating: 4.288576534792917\n"
     ]
    }
   ],
   "source": [
    "data_loading = Dataset.load_from_df(data[['user_id', 'business_id', 'stars']], reader)\n",
    "\n",
    "#Fetching businesses that the user has not rated yet\n",
    "rated_items = data_loading.df[data_loading.df['user_id'] == user_id]['business_id']\n",
    "user_recommendations = []\n",
    "\n",
    "for business_id in data_loading.df['business_id'].unique():\n",
    "    if business_id not in rated_items.values:\n",
    "        predicted_rating = model.predict(user_id, business_id).est\n",
    "        user_recommendations.append((business_id, predicted_rating))\n",
    "\n",
    "#Sorting the recommendations by predicted rating in descending order\n",
    "user_recommendations.sort(key=lambda x: x[1], reverse=True)\n",
    "\n",
    "#Displaying top 20 recommendations for the selected user\n",
    "top_n = 20\n",
    "print(f\"Top {top_n} Recommendations for User {user_id}:\")\n",
    "for idx, (business_id, predicted_rating) in enumerate(user_recommendations[:top_n], 1):\n",
    "    #Looking up 'name' from the 'data' DataFrame\n",
    "    business_name = data[data['business_id'] == business_id]['name'].values[0]\n",
    "    print(f\"{idx}. Business ID: {business_id}, Business Name: {business_name}, Predicted Rating: {predicted_rating}\")"
   ]
  }
 ],
 "metadata": {
  "kernelspec": {
   "display_name": "Python 3 (ipykernel)",
   "language": "python",
   "name": "python3"
  },
  "language_info": {
   "codemirror_mode": {
    "name": "ipython",
    "version": 3
   },
   "file_extension": ".py",
   "mimetype": "text/x-python",
   "name": "python",
   "nbconvert_exporter": "python",
   "pygments_lexer": "ipython3",
   "version": "3.10.9"
  }
 },
 "nbformat": 4,
 "nbformat_minor": 5
}
