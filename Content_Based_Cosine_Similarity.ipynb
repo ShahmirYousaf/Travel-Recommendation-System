{
 "cells": [
  {
   "cell_type": "code",
   "execution_count": 1,
   "id": "343b9180",
   "metadata": {},
   "outputs": [],
   "source": [
    "import pandas as pd\n",
    "import numpy as np\n",
    "import os\n",
    "import scipy.sparse\n",
    "from sklearn.feature_extraction.text import TfidfVectorizer\n",
    "from sklearn.metrics.pairwise import linear_kernel\n",
    "import warnings\n",
    "warnings.simplefilter(action='ignore', category='SettingWithCopyWarning')\n",
    "with warnings.catch_warnings():\n",
    "    warnings.simplefilter(\"ignore\")\n",
    "    \n",
    "folder_path = r'D:\\Datasets'\n",
    "\n",
    "business_file = 'yelp_academic_dataset_business.csv'\n",
    "business_path = os.path.join(folder_path, business_file)\n",
    "\n",
    "df = pd.read_csv(business_path, nrows=10000)"
   ]
  },
  {
   "cell_type": "code",
   "execution_count": 2,
   "id": "ab44c32c",
   "metadata": {},
   "outputs": [
    {
     "data": {
      "text/html": [
       "<div>\n",
       "<style scoped>\n",
       "    .dataframe tbody tr th:only-of-type {\n",
       "        vertical-align: middle;\n",
       "    }\n",
       "\n",
       "    .dataframe tbody tr th {\n",
       "        vertical-align: top;\n",
       "    }\n",
       "\n",
       "    .dataframe thead th {\n",
       "        text-align: right;\n",
       "    }\n",
       "</style>\n",
       "<table border=\"1\" class=\"dataframe\">\n",
       "  <thead>\n",
       "    <tr style=\"text-align: right;\">\n",
       "      <th></th>\n",
       "      <th>business_id</th>\n",
       "      <th>name</th>\n",
       "      <th>address</th>\n",
       "      <th>city</th>\n",
       "      <th>state</th>\n",
       "      <th>postal_code</th>\n",
       "      <th>latitude</th>\n",
       "      <th>longitude</th>\n",
       "      <th>stars</th>\n",
       "      <th>review_count</th>\n",
       "      <th>is_open</th>\n",
       "      <th>attributes</th>\n",
       "      <th>categories</th>\n",
       "      <th>hours</th>\n",
       "    </tr>\n",
       "  </thead>\n",
       "  <tbody>\n",
       "    <tr>\n",
       "      <th>0</th>\n",
       "      <td>Pns2l4eNsfO8kk83dixA6A</td>\n",
       "      <td>Abby Rappoport, LAC, CMQ</td>\n",
       "      <td>1616 Chapala St, Ste 2</td>\n",
       "      <td>Santa Barbara</td>\n",
       "      <td>CA</td>\n",
       "      <td>93101</td>\n",
       "      <td>34.426679</td>\n",
       "      <td>-119.711197</td>\n",
       "      <td>5.0</td>\n",
       "      <td>7</td>\n",
       "      <td>0</td>\n",
       "      <td>{'ByAppointmentOnly': 'True'}</td>\n",
       "      <td>Doctors, Traditional Chinese Medicine, Naturop...</td>\n",
       "      <td>NaN</td>\n",
       "    </tr>\n",
       "    <tr>\n",
       "      <th>1</th>\n",
       "      <td>mpf3x-BjTdTEA3yCZrAYPw</td>\n",
       "      <td>The UPS Store</td>\n",
       "      <td>87 Grasso Plaza Shopping Center</td>\n",
       "      <td>Affton</td>\n",
       "      <td>MO</td>\n",
       "      <td>63123</td>\n",
       "      <td>38.551126</td>\n",
       "      <td>-90.335695</td>\n",
       "      <td>3.0</td>\n",
       "      <td>15</td>\n",
       "      <td>1</td>\n",
       "      <td>{'BusinessAcceptsCreditCards': 'True'}</td>\n",
       "      <td>Shipping Centers, Local Services, Notaries, Ma...</td>\n",
       "      <td>{'Monday': '0:0-0:0', 'Tuesday': '8:0-18:30', ...</td>\n",
       "    </tr>\n",
       "    <tr>\n",
       "      <th>2</th>\n",
       "      <td>tUFrWirKiKi_TAnsVWINQQ</td>\n",
       "      <td>Target</td>\n",
       "      <td>5255 E Broadway Blvd</td>\n",
       "      <td>Tucson</td>\n",
       "      <td>AZ</td>\n",
       "      <td>85711</td>\n",
       "      <td>32.223236</td>\n",
       "      <td>-110.880452</td>\n",
       "      <td>3.5</td>\n",
       "      <td>22</td>\n",
       "      <td>0</td>\n",
       "      <td>{'BikeParking': 'True', 'BusinessAcceptsCredit...</td>\n",
       "      <td>Department Stores, Shopping, Fashion, Home &amp; G...</td>\n",
       "      <td>{'Monday': '8:0-22:0', 'Tuesday': '8:0-22:0', ...</td>\n",
       "    </tr>\n",
       "    <tr>\n",
       "      <th>3</th>\n",
       "      <td>MTSW4McQd7CbVtyjqoe9mw</td>\n",
       "      <td>St Honore Pastries</td>\n",
       "      <td>935 Race St</td>\n",
       "      <td>Philadelphia</td>\n",
       "      <td>PA</td>\n",
       "      <td>19107</td>\n",
       "      <td>39.955505</td>\n",
       "      <td>-75.155564</td>\n",
       "      <td>4.0</td>\n",
       "      <td>80</td>\n",
       "      <td>1</td>\n",
       "      <td>{'RestaurantsDelivery': 'False', 'OutdoorSeati...</td>\n",
       "      <td>Restaurants, Food, Bubble Tea, Coffee &amp; Tea, B...</td>\n",
       "      <td>{'Monday': '7:0-20:0', 'Tuesday': '7:0-20:0', ...</td>\n",
       "    </tr>\n",
       "    <tr>\n",
       "      <th>4</th>\n",
       "      <td>mWMc6_wTdE0EUBKIGXDVfA</td>\n",
       "      <td>Perkiomen Valley Brewery</td>\n",
       "      <td>101 Walnut St</td>\n",
       "      <td>Green Lane</td>\n",
       "      <td>PA</td>\n",
       "      <td>18054</td>\n",
       "      <td>40.338183</td>\n",
       "      <td>-75.471659</td>\n",
       "      <td>4.5</td>\n",
       "      <td>13</td>\n",
       "      <td>1</td>\n",
       "      <td>{'BusinessAcceptsCreditCards': 'True', 'Wheelc...</td>\n",
       "      <td>Brewpubs, Breweries, Food</td>\n",
       "      <td>{'Wednesday': '14:0-22:0', 'Thursday': '16:0-2...</td>\n",
       "    </tr>\n",
       "  </tbody>\n",
       "</table>\n",
       "</div>"
      ],
      "text/plain": [
       "              business_id                      name  \\\n",
       "0  Pns2l4eNsfO8kk83dixA6A  Abby Rappoport, LAC, CMQ   \n",
       "1  mpf3x-BjTdTEA3yCZrAYPw             The UPS Store   \n",
       "2  tUFrWirKiKi_TAnsVWINQQ                    Target   \n",
       "3  MTSW4McQd7CbVtyjqoe9mw        St Honore Pastries   \n",
       "4  mWMc6_wTdE0EUBKIGXDVfA  Perkiomen Valley Brewery   \n",
       "\n",
       "                           address           city state postal_code  \\\n",
       "0           1616 Chapala St, Ste 2  Santa Barbara    CA       93101   \n",
       "1  87 Grasso Plaza Shopping Center         Affton    MO       63123   \n",
       "2             5255 E Broadway Blvd         Tucson    AZ       85711   \n",
       "3                      935 Race St   Philadelphia    PA       19107   \n",
       "4                    101 Walnut St     Green Lane    PA       18054   \n",
       "\n",
       "    latitude   longitude  stars  review_count  is_open  \\\n",
       "0  34.426679 -119.711197    5.0             7        0   \n",
       "1  38.551126  -90.335695    3.0            15        1   \n",
       "2  32.223236 -110.880452    3.5            22        0   \n",
       "3  39.955505  -75.155564    4.0            80        1   \n",
       "4  40.338183  -75.471659    4.5            13        1   \n",
       "\n",
       "                                          attributes  \\\n",
       "0                      {'ByAppointmentOnly': 'True'}   \n",
       "1             {'BusinessAcceptsCreditCards': 'True'}   \n",
       "2  {'BikeParking': 'True', 'BusinessAcceptsCredit...   \n",
       "3  {'RestaurantsDelivery': 'False', 'OutdoorSeati...   \n",
       "4  {'BusinessAcceptsCreditCards': 'True', 'Wheelc...   \n",
       "\n",
       "                                          categories  \\\n",
       "0  Doctors, Traditional Chinese Medicine, Naturop...   \n",
       "1  Shipping Centers, Local Services, Notaries, Ma...   \n",
       "2  Department Stores, Shopping, Fashion, Home & G...   \n",
       "3  Restaurants, Food, Bubble Tea, Coffee & Tea, B...   \n",
       "4                          Brewpubs, Breweries, Food   \n",
       "\n",
       "                                               hours  \n",
       "0                                                NaN  \n",
       "1  {'Monday': '0:0-0:0', 'Tuesday': '8:0-18:30', ...  \n",
       "2  {'Monday': '8:0-22:0', 'Tuesday': '8:0-22:0', ...  \n",
       "3  {'Monday': '7:0-20:0', 'Tuesday': '7:0-20:0', ...  \n",
       "4  {'Wednesday': '14:0-22:0', 'Thursday': '16:0-2...  "
      ]
     },
     "execution_count": 2,
     "metadata": {},
     "output_type": "execute_result"
    }
   ],
   "source": [
    "df.head(5)"
   ]
  },
  {
   "cell_type": "code",
   "execution_count": 3,
   "id": "711e81b0",
   "metadata": {},
   "outputs": [],
   "source": [
    "content_data = df[['business_id', 'name', 'categories', 'attributes', 'stars', 'review_count']].copy()\n",
    "\n",
    "# Set type to string\n",
    "content_data['categories'] = content_data['categories'].astype(str)\n",
    "content_data['attributes'] = content_data['attributes'].astype(str)\n",
    "\n",
    "# handle missing values\n",
    "content_data['categories'].fillna('', inplace=True)\n",
    "content_data['attributes'].fillna('', inplace=True)\n",
    "\n",
    "# make a new column called 'content'\n",
    "content_data['content'] = content_data['name'] + ' ' + content_data['categories'] + ' ' + content_data['attributes']"
   ]
  },
  {
   "cell_type": "code",
   "execution_count": 4,
   "id": "d3f43295",
   "metadata": {},
   "outputs": [],
   "source": [
    "# TF-IDF to convert text into numerical vectors\n",
    "tfidf_vectorizer = TfidfVectorizer(stop_words='english')\n",
    "tfidf_matrix = tfidf_vectorizer.fit_transform(content_data['content'])\n",
    "\n",
    "# Calculate cosine similarity\n",
    "cosine_sim = linear_kernel(tfidf_matrix, tfidf_matrix)"
   ]
  },
  {
   "cell_type": "code",
   "execution_count": 5,
   "id": "e6063c3a",
   "metadata": {},
   "outputs": [],
   "source": [
    "def get_content_recommendations(name, cosine_sim=cosine_sim, content_data=content_data, threshold=0.1):\n",
    "\n",
    "    # get index of the restaurent\n",
    "    idx = content_data.index[content_data['name'] == name].tolist()\n",
    "    if not idx:\n",
    "        print(f\"No restuarents found with name '{name}'\")\n",
    "        return []\n",
    "\n",
    "    idx = idx[0]\n",
    "    sim_scores = list(enumerate(cosine_sim[idx]))\n",
    "    \n",
    "    # filter out items with similarity below the threshold\n",
    "    sim_scores = [(i, score) for i, score in sim_scores if score > threshold]\n",
    "    sim_scores = sorted(sim_scores, key=lambda x: x[1], reverse=True)\n",
    "    \n",
    "    # get top 10 similar restaurents\n",
    "    top_similar_restaurents = sim_scores[1:11]\n",
    "    \n",
    "    # Get the indices and names of the top similar restaurents\n",
    "    similar_indices = [i[0] for i in top_similar_restaurents]\n",
    "    similar_restaurents = content_data.iloc[similar_indices][['name', 'review_count', 'stars']]\n",
    "    return similar_restaurents"
   ]
  },
  {
   "cell_type": "code",
   "execution_count": 6,
   "id": "47578a19",
   "metadata": {},
   "outputs": [],
   "source": [
    "from sklearn.metrics import precision_score, recall_score, f1_score\n",
    "from sklearn.model_selection import KFold\n",
    "import seaborn as sns\n",
    "import matplotlib.pyplot as plt"
   ]
  },
  {
   "cell_type": "markdown",
   "id": "f5126f02",
   "metadata": {},
   "source": [
    "# Evaluation Metrics"
   ]
  },
  {
   "cell_type": "code",
   "execution_count": 7,
   "id": "0fd21b20",
   "metadata": {},
   "outputs": [],
   "source": [
    "# Evaluation Metrics\n",
    "def evaluate_recommendations(actual_restaurents, recommended_restaurents):\n",
    "    recommended_set = set(recommended_restaurents['name'])\n",
    "    actual_set = set(actual_restaurents['name'])\n",
    "    precision = len(recommended_set.intersection(actual_set)) / len(recommended_set)\n",
    "    recall = len(recommended_set.intersection(actual_set)) / len(actual_set)\n",
    "    f1 = 2 * (precision * recall) / (precision + recall) if precision + recall > 0 else 0\n",
    "    return precision, recall, f1"
   ]
  },
  {
   "cell_type": "markdown",
   "id": "4b87471d",
   "metadata": {},
   "source": [
    "# Cross-Validation"
   ]
  },
  {
   "cell_type": "code",
   "execution_count": 8,
   "id": "ffc77b2b",
   "metadata": {},
   "outputs": [],
   "source": [
    "kf = KFold(n_splits=5)"
   ]
  },
  {
   "cell_type": "markdown",
   "id": "ac416517",
   "metadata": {},
   "source": [
    "# Visualization"
   ]
  },
  {
   "cell_type": "code",
   "execution_count": 9,
   "id": "84b36ed7",
   "metadata": {},
   "outputs": [
    {
     "data": {
      "image/png": "[encoded data removed]",
      "text/plain": [
       "<Figure size 640x480 with 1 Axes>"
      ]
     },
     "metadata": {},
     "output_type": "display_data"
    }
   ],
   "source": [
    "# Visualizing the distribution of similarity scores\n",
    "sns.histplot(cosine_sim.flatten(), bins=20)\n",
    "plt.xlabel('Cosine Similarity')\n",
    "plt.ylabel('Frequency')\n",
    "plt.title('Distribution of Cosine Similarity Scores')\n",
    "plt.show()"
   ]
  },
  {
   "cell_type": "markdown",
   "id": "19e627ff",
   "metadata": {},
   "source": [
    "# Example Usage"
   ]
  },
  {
   "cell_type": "code",
   "execution_count": 7,
   "id": "15766cc4",
   "metadata": {},
   "outputs": [
    {
     "name": "stdout",
     "output_type": "stream",
     "text": [
      "Content-Based Recommendations for St Honore Pastries:\n",
      "                           name  review_count  stars\n",
      "9362  Chatime - Bubble Tea Cafe           182    3.5\n",
      "9466                  Starbucks            53    3.0\n",
      "2732                  Starbucks            31    3.5\n",
      "8101                  Starbucks            18    2.5\n",
      "2926                Eleven Cafē            21    5.0\n",
      "9013                  Starbucks            15    4.0\n",
      "4424                  Starbucks             5    4.0\n",
      "8398                  Starbucks            17    3.5\n",
      "8995                  Starbucks            65    3.0\n",
      "6392                  Starbucks            17    1.5\n"
     ]
    }
   ],
   "source": [
    "restaurent_name = \"St Honore Pastries\"\n",
    "content_recommendations = get_content_recommendations(restaurent_name, threshold=0.5)\n",
    "\n",
    "print(f\"Content-Based Recommendations for {restaurent_name}:\")\n",
    "print(content_recommendations)"
   ]
  },
  {
   "cell_type": "code",
   "execution_count": 8,
   "id": "d8c81c91",
   "metadata": {},
   "outputs": [
    {
     "name": "stdout",
     "output_type": "stream",
     "text": [
      "Content-Based Recommendations for Tuna Bar:\n",
      "                                        name  review_count  stars\n",
      "151                                  J Sushi            72    4.5\n",
      "2012                               Sushi Bar           346    4.0\n",
      "275                               Sake House           140    3.0\n",
      "1635                        Kampai Sushi Bar           328    4.0\n",
      "221   Tomo Japanese Steakhouse and Sushi Bar           246    4.0\n",
      "3276                              Sushi Nara           159    4.5\n",
      "3685                           Samurai Sushi           367    4.0\n",
      "1614                           Sachiko Sushi           191    3.5\n",
      "9202                                 Ichiban           227    3.5\n",
      "6077                              Sushi Ushi           256    4.5\n"
     ]
    }
   ],
   "source": [
    "restaurent_name = \"Tuna Bar\"\n",
    "content_recommendations = get_content_recommendations(restaurent_name, threshold=0.5)\n",
    "\n",
    "print(f\"Content-Based Recommendations for {restaurent_name}:\")\n",
    "print(content_recommendations)"
   ]
  },
  {
   "cell_type": "code",
   "execution_count": 9,
   "id": "57b801bc",
   "metadata": {},
   "outputs": [
    {
     "name": "stdout",
     "output_type": "stream",
     "text": [
      "No restuarents found with name 'The Waterwheel'\n",
      "Content-Based Recommendations for The Waterwheel:\n",
      "[]\n"
     ]
    }
   ],
   "source": [
    "restaurent_name = \"The Waterwheel\"\n",
    "content_recommendations = get_content_recommendations(restaurent_name, threshold=0.5)\n",
    "\n",
    "print(f\"Content-Based Recommendations for {restaurent_name}:\")\n",
    "print(content_recommendations)"
   ]
  }
 ],
 "metadata": {
  "kernelspec": {
   "display_name": "Python 3 (ipykernel)",
   "language": "python",
   "name": "python3"
  },
  "language_info": {
   "codemirror_mode": {
    "name": "ipython",
    "version": 3
   },
   "file_extension": ".py",
   "mimetype": "text/x-python",
   "name": "python",
   "nbconvert_exporter": "python",
   "pygments_lexer": "ipython3",
   "version": "3.10.9"
  }
 },
 "nbformat": 4,
 "nbformat_minor": 5
}
